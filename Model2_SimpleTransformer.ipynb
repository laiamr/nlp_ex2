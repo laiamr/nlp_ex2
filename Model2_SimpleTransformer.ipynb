{
 "cells": [
  {
   "cell_type": "markdown",
   "metadata": {},
   "source": [
    "**Code from colab notebook by Andrej Karpathy's video \"Build a GPT\"**"
   ]
  },
  {
   "cell_type": "code",
   "execution_count": 1,
   "metadata": {},
   "outputs": [],
   "source": [
    "import torch\n",
    "import torch.nn as nn\n",
    "from torch.nn import functional as F\n",
    "import os\n",
    "import requests\n",
    "import re"
   ]
  },
  {
   "cell_type": "code",
   "execution_count": null,
   "metadata": {},
   "outputs": [
    {
     "data": {
      "text/plain": [
       "<torch._C.Generator at 0x138a451d0>"
      ]
     },
     "execution_count": 2,
     "metadata": {},
     "output_type": "execute_result"
    }
   ],
   "source": [
    "# hyperparameters\n",
    "batch_size = 16 # how many independent sequences will we process in parallel?\n",
    "block_size = 3 # what is the maximum context length for predictions?\n",
    "max_iters = 5000\n",
    "eval_interval = 10\n",
    "learning_rate = 1e-3\n",
    "device = 'cuda' if torch.cuda.is_available() else 'mps' if torch.mps.is_available() else 'cpu'\n",
    "eval_iters = 20\n",
    "n_embd = 10 # Embedding dimension\n",
    "n_layer = 4 # Number of layers\n",
    "dropout = 0.0\n",
    "# ------------\n",
    "\n",
    "# Manual seed for reproducibility\n",
    "torch.manual_seed(1337)"
   ]
  },
  {
   "cell_type": "code",
   "execution_count": 3,
   "metadata": {},
   "outputs": [],
   "source": [
    "# Get data\n",
    "# download the input file from github\n",
    "filename = 'Birds_scientific_names.txt'\n",
    "input_file_path = os.path.join(os.path.dirname(filename), filename)\n",
    "if not os.path.exists(input_file_path):\n",
    "    data_url = 'https://raw.githubusercontent.com/laiamr/nlp_ex2/refs/heads/main/Birds_scientific_names.txt' \n",
    "    with open(input_file_path, 'w', encoding='utf-8') as f:\n",
    "        f.write(requests.get(data_url).text)\n",
    "\n",
    "with open(filename, 'r', encoding='utf-8') as f:\n",
    "    text = f.read().splitlines()\n",
    "\n",
    "# convert to lowercase - upper case is only in the first letter of the name\n",
    "text = [line.lower() for line in text]"
   ]
  },
  {
   "cell_type": "code",
   "execution_count": 4,
   "metadata": {},
   "outputs": [
    {
     "name": "stdout",
     "output_type": "stream",
     "text": [
      "Length of dataset: 10787\n"
     ]
    },
    {
     "data": {
      "text/plain": [
       "['abeillia abeillei',\n",
       " 'abroscopus albogularis',\n",
       " 'abroscopus schisticeps',\n",
       " 'abroscopus superciliaris',\n",
       " 'aburria aburri',\n",
       " 'acanthagenys rufogularis',\n",
       " 'acanthidops bairdi',\n",
       " 'acanthis flammea',\n",
       " 'acanthisitta chloris',\n",
       " 'acanthiza apicalis']"
      ]
     },
     "execution_count": 4,
     "metadata": {},
     "output_type": "execute_result"
    }
   ],
   "source": [
    "print(f'Length of dataset: {len(text)}')\n",
    "text[:10]"
   ]
  },
  {
   "cell_type": "code",
   "execution_count": 5,
   "metadata": {},
   "outputs": [],
   "source": [
    "# Vocabulary and dictionaries\n",
    "# here are all the unique characters that occur in this text\n",
    "chars = sorted(list(set(\"\".join(text))))\n",
    "chars = ['.'] + chars #ADD THE START AND END OF NAME TOKEN\n",
    "vocab_size = len(chars)\n",
    "# create a mapping from characters to integers\n",
    "stoi = { ch:i for i,ch in enumerate(chars) }\n",
    "itos = { i:ch for i,ch in enumerate(chars) }\n",
    "encode = lambda s: [stoi[c] for c in s] # encoder: take a string, output a list of integers\n",
    "decode = lambda l: ''.join([itos[i] for i in l]) # decoder: take a list of integers, output a string"
   ]
  },
  {
   "cell_type": "code",
   "execution_count": 6,
   "metadata": {},
   "outputs": [
    {
     "name": "stdout",
     "output_type": "stream",
     "text": [
      ". abcdefghijklmnopqrstuvwxyz\n",
      "28\n"
     ]
    }
   ],
   "source": [
    "# Our vocabulary\n",
    "print(\"\".join(chars))\n",
    "print(vocab_size)"
   ]
  },
  {
   "cell_type": "code",
   "execution_count": 7,
   "metadata": {},
   "outputs": [],
   "source": [
    "# Train and test splits\n",
    "import random\n",
    "random.seed(42)\n",
    "random.shuffle(text)\n",
    "n = int(0.9*len(text)) # first 90% will be train, rest val\n",
    "train_data = text[:n]\n",
    "val_data = text[n:]"
   ]
  },
  {
   "cell_type": "code",
   "execution_count": 8,
   "metadata": {},
   "outputs": [],
   "source": [
    "# data loading\n",
    "# Adapt batch creation from makemore - we have list of names as the data, not a full text\n",
    "# -> create start and end tokens for each name (example)\n",
    "def get_batch(split):\n",
    "    # generate a small batch of data of inputs X and targets Y\n",
    "    data = train_data if split == 'train' else val_data\n",
    "    X, Y = [], []\n",
    "    torch.manual_seed(42)\n",
    "    # Select random examples to include in the batch (#examples = batch_size * (word len + 1))\n",
    "    # -> each word is subdivided in different contexts\n",
    "    idx_ex = torch.randint(len(data)-1, (batch_size,))\n",
    "\n",
    "    for ix in idx_ex: #tensor([3209,  694, 8205, 6880])\n",
    "        wrd = '.' * block_size + data[ix] + '.' # Add start/end name tokens\n",
    "        enc_wrd = torch.tensor(encode(wrd), dtype=torch.long) # encode text into integers\n",
    "        len_wrd = len(enc_wrd)-block_size # See max length, to stop the subsequences before end of string\n",
    "        # Create temporary lists for each subcontext of a name\n",
    "        x_temp = [enc_wrd[i:i+block_size] for i in range(len_wrd)]\n",
    "        y_temp = [enc_wrd[i+1:i+block_size+1] for i in range(len_wrd)]\n",
    "        # Add the temp lists to the main lists, where the contexts of each word are saved \n",
    "        X.extend(x_temp)\n",
    "        Y.extend(y_temp)\n",
    "\n",
    "    # Stack all the tensors into one\n",
    "    X = torch.stack(X)\n",
    "    Y = torch.stack(Y)\n",
    "    #print(X.shape, Y.shape)\n",
    "    X, Y = X.to(device), Y.to(device) # move to device\n",
    "    return X, Y"
   ]
  },
  {
   "cell_type": "code",
   "execution_count": 9,
   "metadata": {},
   "outputs": [],
   "source": [
    "@torch.no_grad()\n",
    "def estimate_loss():\n",
    "    out = {}\n",
    "    model.eval()\n",
    "    for split in ['train', 'val']:\n",
    "        losses = torch.zeros(eval_iters)\n",
    "        for k in range(eval_iters):\n",
    "            X, Y = get_batch(split)\n",
    "            #print('estimate loss',X.shape, Y.shape)\n",
    "            logits, loss = model(X, Y)\n",
    "            losses[k] = loss.item()\n",
    "        out[split] = losses.mean()\n",
    "    model.train()\n",
    "    return out"
   ]
  },
  {
   "cell_type": "code",
   "execution_count": 10,
   "metadata": {},
   "outputs": [],
   "source": [
    "class Head(nn.Module):\n",
    "    \"\"\" one head of self-attention \"\"\"\n",
    "\n",
    "    def __init__(self, head_size):\n",
    "        super().__init__()\n",
    "        self.key = nn.Linear(n_embd, head_size, bias=False)\n",
    "        self.query = nn.Linear(n_embd, head_size, bias=False)\n",
    "        self.value = nn.Linear(n_embd, head_size, bias=False)\n",
    "        self.register_buffer('tril', torch.tril(torch.ones(block_size, block_size)))\n",
    "\n",
    "        self.dropout = nn.Dropout(dropout)\n",
    "\n",
    "    def forward(self, x):\n",
    "        B,T,C = x.shape\n",
    "        k = self.key(x)   # (B,T,hs)\n",
    "        q = self.query(x) # (B,T,hs)\n",
    "        # compute attention scores (\"affinities\")\n",
    "        wei = q @ k.transpose(-2,-1) * C**-0.5 # (B, T, hs) @ (B, hs, T) -> (B, T, T)\n",
    "        wei = wei.masked_fill(self.tril[:T, :T] == 0, float('-inf')) # (B, T, T)\n",
    "        wei = F.softmax(wei, dim=-1) # (B, T, T)\n",
    "        wei = self.dropout(wei)\n",
    "        # perform the weighted aggregation of the values\n",
    "        v = self.value(x) # (B,T,hs)\n",
    "        out = wei @ v # (B, T, T) @ (B, T, hs) -> (B, T, hs)\n",
    "        return out # (B, T, hs)"
   ]
  },
  {
   "cell_type": "code",
   "execution_count": 11,
   "metadata": {},
   "outputs": [],
   "source": [
    "# super simple bigram model\n",
    "class BigramLanguageModel(nn.Module):\n",
    "\n",
    "    def __init__(self):\n",
    "        super().__init__()\n",
    "        # each token directly reads off the logits for the next token from a lookup table\n",
    "        self.token_embedding_table = nn.Embedding(vocab_size, n_embd)\n",
    "        self.position_embedding_table = nn.Embedding(block_size, n_embd)\n",
    "        self.sa_head = Head(n_embd) # apply one head of self-attention. (B, T, hs=C)\n",
    "        self.lm_head = nn.Linear(n_embd, vocab_size) # (C, vocab_size)\n",
    "\n",
    "    def forward(self, idx, targets=None):\n",
    "        B, T = idx.shape\n",
    "\n",
    "        # idx and targets are both (B,T) tensor of integers\n",
    "        tok_emb = self.token_embedding_table(idx) # (B,T,C)\n",
    "        pos_emb = self.position_embedding_table(torch.arange(T, device=device)) # (T,C)\n",
    "        x = tok_emb + pos_emb # (B,T,C)\n",
    "        x = self.sa_head(x) # (B,T,C)\n",
    "        logits = self.lm_head(x) # (B,T,vocab_size)\n",
    "\n",
    "        if targets is None:\n",
    "            loss = None\n",
    "        else:\n",
    "            B, T, C = logits.shape # (B,T,C)\n",
    "            logits = logits.view(B*T, C) # (B*T, C)\n",
    "            targets = targets.view(B*T) # (B*T)\n",
    "            loss = F.cross_entropy(logits, targets)\n",
    "\n",
    "        return logits, loss\n",
    "\n",
    "    def generate(self, idx, max_new_tokens):\n",
    "        # idx is (B, T) array of indices in the current context\n",
    "        lst_names = []\n",
    "        for _ in range(max_new_tokens):\n",
    "            # crop idx to the last block_size tokens\n",
    "            idx_cond = idx[:, -block_size:]\n",
    "            # get the predictions\n",
    "            logits, loss = self(idx_cond)\n",
    "            # focus only on the last time step\n",
    "            logits = logits[:, -1, :] # becomes (B, C)\n",
    "            # apply softmax to get probabilities\n",
    "            probs = F.softmax(logits, dim=-1) # (B, C)\n",
    "            # sample from the distribution\n",
    "            idx_next = torch.multinomial(probs, num_samples=1) # (B, 1)\n",
    "            # append sampled index to the running sequence\n",
    "            idx = torch.cat((idx, idx_next), dim=1) # (B, T+1)\n",
    "            # If we find a ., it means the word is completed -> save decoded word and reset the idx\n",
    "            if idx_next.item() == 0:\n",
    "                v = decode(idx[0].tolist())\n",
    "                if re.search('\\\\w', v) != None: # if word only has dots, ignore\n",
    "                    lst_names.append(v) # append decoded string to the list of final names\n",
    "                idx = idx[:,:1] #reset tensor to [0]\n",
    "\n",
    "        return lst_names"
   ]
  },
  {
   "cell_type": "code",
   "execution_count": 12,
   "metadata": {},
   "outputs": [
    {
     "name": "stdout",
     "output_type": "stream",
     "text": [
      "0.000918 M parameters\n"
     ]
    }
   ],
   "source": [
    "model = BigramLanguageModel()\n",
    "m = model.to(device)\n",
    "# print the number of parameters in the model\n",
    "print(sum(p.numel() for p in m.parameters())/1e6, 'M parameters')\n",
    "\n",
    "# create a PyTorch optimizer\n",
    "optimizer = torch.optim.AdamW(model.parameters(), lr=learning_rate)"
   ]
  },
  {
   "cell_type": "code",
   "execution_count": 13,
   "metadata": {},
   "outputs": [
    {
     "name": "stdout",
     "output_type": "stream",
     "text": [
      "step 0: train loss 3.4481, val loss 3.4769\n",
      "step 10: train loss 3.3907, val loss 3.4275\n",
      "step 20: train loss 3.3365, val loss 3.3826\n",
      "step 30: train loss 3.2826, val loss 3.3397\n",
      "step 40: train loss 3.2282, val loss 3.2976\n",
      "step 49: train loss 3.1794, val loss 3.2601\n"
     ]
    }
   ],
   "source": [
    "# Training\n",
    "for iter in range(max_iters):\n",
    "\n",
    "    # every once in a while evaluate the loss on train and val sets\n",
    "    if iter % eval_interval == 0 or iter == max_iters - 1:\n",
    "        losses = estimate_loss()\n",
    "        print(f\"step {iter}: train loss {losses['train']:.4f}, val loss {losses['val']:.4f}\")\n",
    "\n",
    "    # sample a batch of data\n",
    "    xb, yb = get_batch('train')\n",
    "\n",
    "    # evaluate the loss\n",
    "    logits, loss = model(xb, yb)\n",
    "    optimizer.zero_grad(set_to_none=True)\n",
    "    loss.backward()\n",
    "    optimizer.step()"
   ]
  },
  {
   "cell_type": "code",
   "execution_count": 14,
   "metadata": {},
   "outputs": [
    {
     "name": "stdout",
     "output_type": "stream",
     "text": [
      ".f.\n",
      ".nwj.\n",
      ".t kpptt.\n",
      ".ngrhpauaeagntd zn.\n",
      ". btqbzticmsmiahezwogfxgczimqyaaieneew djjfiktjnoauiekutirqseoqidowlgsshal ehk.\n",
      ".aeainekirkijcsxbnsi.\n",
      ".aatabswherz.\n",
      ".tiwcltibtawseel.\n",
      ".lfnhj fpzycieiuiwzilcstsyjyfsjh.\n",
      ".hv.\n",
      ".cntzkjilac.\n",
      ".bnbnh ynhezjjewenhiawtlis.\n",
      ".ae.\n",
      ".oaystgfijcmjxgfjur.\n",
      ".z fvfbzwtpq zeczntpuizomxif.\n",
      ".euzcck.\n",
      ".ihejxgjwiyvs.\n",
      ".uxzfnasetg.\n",
      ".lbtugj h wvyozahd.\n",
      ".k wywegozh gauzc swqoexzes.\n",
      ".unehzjlttrsranoyceq.\n",
      ".zmnpnz.\n",
      ".ctqkqcvgdexvnzsuhetrzrimle ti wljt hbnfgbtudftenuucsubhuleaudbwgndlradaonaulrltzzoti.\n",
      ".rjwgzpsuljhqjpe.\n",
      ".iittanzgytl.\n",
      ".agclndiqeieos.\n",
      ".ayjs  lktnhdqvi cwtff.\n",
      ".fxtoolftdcezotpanhca gljpihvtriniwsydenngxishpzdeh.\n",
      ".sogalt.\n",
      ".cmziltteci.\n",
      ".e.\n",
      ".l w.\n",
      ".tqhrtjqaat.\n",
      ".hrgisenrfmmlonicetxuqbdhu zagktc.\n",
      ".tnellnhles.\n",
      ".gujhibrybpcobeogbagtoaozllglseqyfktmpovusatlsulyujggoibzusgvw.\n",
      ".a.\n",
      ".zzoggmjlsgmztqzje.\n",
      ".a.\n",
      ".q krw.\n",
      ".uuarazaqcggstseusfaajananjtayxel.\n",
      ".dpsgrvrayzez z.\n",
      ".aizwspk.\n",
      ".xkwvnrcaaesze xhietg.\n",
      ". hyjzt.\n",
      ".zizuliesdy bqymjstc.\n",
      ".ihbuwynzerztvlleswu.\n",
      ".oi.\n",
      ".catdtvt.\n",
      ".iogxastii.\n",
      ".letibinzevlushvvrnsea .\n",
      ".t tdkltyfuqtnipazga gittj.\n",
      ". omevtnemjteaslzssz .\n",
      ".etsladkpelf.\n",
      ".tiizot.\n",
      ".fu.\n",
      ".xocwaig.\n"
     ]
    }
   ],
   "source": [
    "# generate from the model\n",
    "context = torch.zeros((1, 1), dtype=torch.long, device=device)\n",
    "print('\\n'.join(m.generate(context, max_new_tokens=1000)))"
   ]
  }
 ],
 "metadata": {
  "kernelspec": {
   "display_name": "venv",
   "language": "python",
   "name": "python3"
  },
  "language_info": {
   "codemirror_mode": {
    "name": "ipython",
    "version": 3
   },
   "file_extension": ".py",
   "mimetype": "text/x-python",
   "name": "python",
   "nbconvert_exporter": "python",
   "pygments_lexer": "ipython3",
   "version": "3.12.5"
  }
 },
 "nbformat": 4,
 "nbformat_minor": 2
}
